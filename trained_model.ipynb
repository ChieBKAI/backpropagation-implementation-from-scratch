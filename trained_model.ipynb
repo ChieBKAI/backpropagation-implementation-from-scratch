{
 "cells": [
  {
   "cell_type": "code",
   "execution_count": 2,
   "metadata": {},
   "outputs": [],
   "source": [
    "import numpy as np\n",
    "import pathlib\n",
    "import matplotlib.pyplot as plt\n",
    "from sklearn.model_selection import train_test_split"
   ]
  },
  {
   "cell_type": "code",
   "execution_count": 3,
   "metadata": {},
   "outputs": [],
   "source": [
    "#get mnist data from local file\n",
    "def get_mnist_data():\n",
    "    mnist_file_path = pathlib.Path(\"data\\mnist.npz\")\n",
    "    with np.load(mnist_file_path) as f:\n",
    "        images, labels = f[\"x_train\"], f[\"y_train\"]\n",
    "    images = images.astype(\"float32\") / 255.0\n",
    "    images = np.reshape(images, (images.shape[0], images.shape[1] * images.shape[2]))\n",
    "    labels = np.eye(10)[labels]\n",
    "    return images, labels"
   ]
  },
  {
   "cell_type": "code",
   "execution_count": 4,
   "metadata": {},
   "outputs": [],
   "source": [
    "def ReLU(x):\n",
    "    return np.maximum(0, x)\n",
    "\n",
    "def softmax(Z):\n",
    "    e_Z = np.exp(Z - np.max(Z, axis = 0, keepdims = True))\n",
    "    A = e_Z / e_Z.sum(axis = 0)\n",
    "    return A\n",
    "\n",
    "def forward_propagation(w1, b1, w2, b2, X):\n",
    "    z1 = np.dot(w1, X) + b1\n",
    "    a1 = ReLU(z1)\n",
    "    z2 = np.dot(w2, a1) + b2\n",
    "    a2 = softmax(z2)\n",
    "    return z1, a1, z2, a2\n",
    "\n",
    "def get_predictions(a2):\n",
    "    return np.argmax(a2, axis=0)\n",
    "\n",
    "def get_accuracy(predictions, y):\n",
    "    return  np.sum(predictions == y) / y.shape[0]"
   ]
  },
  {
   "cell_type": "code",
   "execution_count": 5,
   "metadata": {},
   "outputs": [],
   "source": [
    "#get data from mnist dataset\n",
    "images, labels = get_mnist_data()\n",
    "m, n = images.shape"
   ]
  },
  {
   "cell_type": "code",
   "execution_count": 6,
   "metadata": {},
   "outputs": [],
   "source": [
    "# MAIN\n",
    "\n",
    "#Split the data into training and testing sets\n",
    "X_train, X_test, y_train, y_test = train_test_split(images, labels, test_size=0.1, random_state=42)\n",
    "\n",
    "#change dimension of the data\n",
    "X_train = X_train.T\n",
    "X_test = X_test.T\n",
    "y_train = y_train.T\n",
    "y_test = y_test.T\n",
    "\n"
   ]
  },
  {
   "cell_type": "code",
   "execution_count": 7,
   "metadata": {},
   "outputs": [],
   "source": [
    "loaded_data = np.load(\"model_parameters.npz\")\n",
    "\n",
    "w1 = loaded_data[\"w1\"]\n",
    "w2 = loaded_data[\"w2\"]\n",
    "b1 = loaded_data[\"b1\"]\n",
    "b2 = loaded_data[\"b2\"]"
   ]
  },
  {
   "cell_type": "code",
   "execution_count": 8,
   "metadata": {},
   "outputs": [
    {
     "name": "stdout",
     "output_type": "stream",
     "text": [
      "Accuracy:  92.88333333333333 %\n"
     ]
    }
   ],
   "source": [
    "z1, a1, z2, a2 = forward_propagation(w1, b1, w2, b2, X_test)\n",
    "print (\"Accuracy: \", get_accuracy(get_predictions(a2), get_predictions(y_test)) * 100, \"%\")\n"
   ]
  },
  {
   "cell_type": "code",
   "execution_count": 10,
   "metadata": {},
   "outputs": [
    {
     "name": "stdout",
     "output_type": "stream",
     "text": [
      "Prediction:  8\n",
      "Label:  8\n"
     ]
    },
    {
     "data": {
      "image/png": "[encoded data removed]",
      "text/plain": [
       "<Figure size 432x288 with 1 Axes>"
      ]
     },
     "metadata": {
      "needs_background": "light"
     },
     "output_type": "display_data"
    }
   ],
   "source": [
    "index = 666\n",
    "vect_X = X_test[:, index,None]\n",
    "prediction = get_predictions(a2)\n",
    "label = get_predictions(y_test[:, index])\n",
    "print(\"Prediction: \", prediction[index])\n",
    "print(\"Label: \", label)\n",
    "\n",
    "current_image = vect_X.reshape((28, 28)) * 255.0\n",
    "\n",
    "plt.gray()\n",
    "plt.imshow(current_image, interpolation='nearest')\n",
    "plt.show()\n"
   ]
  }
 ],
 "metadata": {
  "kernelspec": {
   "display_name": "Python 3",
   "language": "python",
   "name": "python3"
  },
  "language_info": {
   "codemirror_mode": {
    "name": "ipython",
    "version": 3
   },
   "file_extension": ".py",
   "mimetype": "text/x-python",
   "name": "python",
   "nbconvert_exporter": "python",
   "pygments_lexer": "ipython3",
   "version": "3.10.5"
  },
  "orig_nbformat": 4
 },
 "nbformat": 4,
 "nbformat_minor": 2
}
